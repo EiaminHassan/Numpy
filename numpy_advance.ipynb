{
 "cells": [
  {
   "cell_type": "markdown",
   "id": "e4e7aaac",
   "metadata": {},
   "source": [
    "Advance topics"
   ]
  },
  {
   "cell_type": "code",
   "execution_count": 1,
   "id": "c10d9287",
   "metadata": {},
   "outputs": [],
   "source": [
    "import numpy as np"
   ]
  },
  {
   "cell_type": "code",
   "execution_count": 3,
   "id": "33d93e55",
   "metadata": {},
   "outputs": [
    {
     "name": "stdout",
     "output_type": "stream",
     "text": [
      "[ 10  20 100  30  40  50]\n"
     ]
    }
   ],
   "source": [
    "# insert elements at specific indices\n",
    "ar = np.array([10, 20, 30, 40, 50])\n",
    "new_arr = np.insert(ar, 2, 100)\n",
    "print(new_arr)"
   ]
  },
  {
   "cell_type": "code",
   "execution_count": 4,
   "id": "dd5424c0",
   "metadata": {},
   "outputs": [
    {
     "name": "stdout",
     "output_type": "stream",
     "text": [
      "[[1 2 3]\n",
      " [7 8 9]\n",
      " [4 5 6]]\n"
     ]
    }
   ],
   "source": [
    "# insert in 2D array\n",
    "ar_2d = np.array([[1, 2, 3], [4, 5, 6]])\n",
    "new_arr_2d = np.insert(ar_2d, 1, [7, 8, 9], axis=0)\n",
    "print(new_arr_2d)"
   ]
  },
  {
   "cell_type": "code",
   "execution_count": 10,
   "id": "d1d5d4fd",
   "metadata": {},
   "outputs": [
    {
     "name": "stdout",
     "output_type": "stream",
     "text": [
      "[[1 7 2 3]\n",
      " [4 8 5 6]]\n"
     ]
    }
   ],
   "source": [
    "ar_2D = np.array([[1, 2, 3], [4, 5, 6]])\n",
    "new_ar = np.insert(ar_2D, 1, [7, 8], axis=1)\n",
    "print(new_ar)"
   ]
  },
  {
   "cell_type": "code",
   "execution_count": 11,
   "id": "43a7ceaf",
   "metadata": {},
   "outputs": [
    {
     "name": "stdout",
     "output_type": "stream",
     "text": [
      "[1 2 3 4 5]\n"
     ]
    }
   ],
   "source": [
    "# append elements to the end of an array\n",
    "array = np.array([1, 2, 3])\n",
    "new_array = np.append(array, [4, 5])\n",
    "print(new_array)"
   ]
  },
  {
   "cell_type": "code",
   "execution_count": 12,
   "id": "197fa3b7",
   "metadata": {},
   "outputs": [
    {
     "name": "stdout",
     "output_type": "stream",
     "text": [
      "[1 2 3 4 5 6]\n"
     ]
    }
   ],
   "source": [
    "# concatenate two arrays\n",
    "array1 = np.array([1, 2, 3])\n",
    "array2 = np.array([4, 5, 6])\n",
    "concat_array = np.concatenate((array1, array2))\n",
    "print(concat_array)"
   ]
  },
  {
   "cell_type": "code",
   "execution_count": 18,
   "id": "61b38b2d",
   "metadata": {},
   "outputs": [
    {
     "name": "stdout",
     "output_type": "stream",
     "text": [
      "[ 20  40  60  80 100]\n",
      "[[11 22 33]\n",
      " [14 25 36]]\n",
      "[[11 22]\n",
      " [13 23]\n",
      " [14 25]]\n"
     ]
    }
   ],
   "source": [
    "ar = np.array([10, 20, 30, 40, 50])\n",
    "\n",
    "result = ar * 2  # Example of broadcasting\n",
    "print(result)\n",
    "\n",
    "ar1 = np.array([[1,2,3],[4,5,6]])\n",
    "ar2 = np.array([10, 20, 30])\n",
    "result_broadcast = ar1 + ar2  # Broadcasting addition\n",
    "print(result_broadcast)\n",
    "\n",
    "# for incompatible shapes, broadcasting will raise an error\n",
    "\n",
    "ar3 = np.array([[1, 2, 3], [3, 4, 5]])\n",
    "ar4 = np.array([10, 20])\n",
    "# result_error = ar3 + ar4  # This will raise an error\n",
    "temp = ar3.reshape(3,2)\n",
    "result = temp + ar4  # Reshaping to make it compatible\n",
    "print(result)\n"
   ]
  },
  {
   "cell_type": "code",
   "execution_count": null,
   "id": "3b83778d",
   "metadata": {},
   "outputs": [
    {
     "name": "stdout",
     "output_type": "stream",
     "text": [
      "NaN values in array: [False False  True False False  True]\n",
      "Number of NaN values: 2\n",
      "Array with NaN replaced: [10. 20.  0. 40. 50.  0.]\n",
      "Infinite values in array: [False False  True False  True]\n",
      "Number of infinite values: 2\n",
      "Array with infinite values replaced: [  1.   2. 100.   4. 100.]\n"
     ]
    }
   ],
   "source": [
    "ar = np.array([10, 20, np.nan, 40, 50, np.nan])\n",
    "# Check for NaN values\n",
    "nan_mask = np.isnan(ar)\n",
    "print(\"NaN values in array:\", nan_mask)\n",
    "\n",
    "# Count NaN values\n",
    "nan_count = np.sum(nan_mask)\n",
    "print(\"Number of NaN values:\", nan_count)\n",
    "\n",
    "# Replace NaN values with a specific value (e.g., 0)\n",
    "ar_no_nan = np.nan_to_num(ar, nan=0)\n",
    "print(\"Array with NaN replaced:\", ar_no_nan)\n",
    "\n",
    "# isinf checks for infinite values\n",
    "ar_inf = np.array([1, 2, np.inf, 4, -np.inf])\n",
    "inf_mask = np.isinf(ar_inf)\n",
    "print(\"Infinite values in array:\", inf_mask)\n",
    "\n",
    "# Count infinite values\n",
    "inf_count = np.sum(inf_mask)\n",
    "print(\"Number of infinite values:\", inf_count)\n",
    "\n",
    "# Replace infinite values with a specific value (e.g., 100)\n",
    "ar_inf_no_inf = np.where(np.isinf(ar_inf), 100, ar_inf)\n",
    "print(\"Array with infinite values replaced:\", ar_inf_no_inf)\n",
    "\n"
   ]
  },
  {
   "cell_type": "code",
   "execution_count": null,
   "id": "52fbc694",
   "metadata": {},
   "outputs": [],
   "source": []
  }
 ],
 "metadata": {
  "kernelspec": {
   "display_name": "Python 3",
   "language": "python",
   "name": "python3"
  },
  "language_info": {
   "codemirror_mode": {
    "name": "ipython",
    "version": 3
   },
   "file_extension": ".py",
   "mimetype": "text/x-python",
   "name": "python",
   "nbconvert_exporter": "python",
   "pygments_lexer": "ipython3",
   "version": "3.13.3"
  }
 },
 "nbformat": 4,
 "nbformat_minor": 5
}
