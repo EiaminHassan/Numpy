{
 "cells": [
  {
   "cell_type": "code",
   "execution_count": null,
   "id": "a3c52f19",
   "metadata": {},
   "outputs": [
    {
     "name": "stdout",
     "output_type": "stream",
     "text": [
      "(2, 6)\n",
      "2\n",
      "2\n",
      "12\n",
      "int64\n",
      "[[ 10.  20.  30.  40.  50.  60.]\n",
      " [ 70.  80.  90. 100. 110. 120.]]\n"
     ]
    }
   ],
   "source": [
    "import numpy as np\n",
    "arr = np.array([[10, 20, 30, 40, 50, 60],[70, 80, 90, 100, 110, 120]])\n",
    "print(arr.shape)\n",
    "print(len(arr)) # Number of rows for 2D arrays. If 1D, it gives the number of elements.\n",
    "print(arr.ndim)\n",
    "print(arr.size) # Total number of elements\n",
    "print(arr.dtype)\n",
    "print(arr.astype(np.float64))  # Convert to float64"
   ]
  },
  {
   "cell_type": "code",
   "execution_count": null,
   "id": "ce5a980b",
   "metadata": {},
   "outputs": [],
   "source": []
  }
 ],
 "metadata": {
  "kernelspec": {
   "display_name": "Python 3",
   "language": "python",
   "name": "python3"
  },
  "language_info": {
   "codemirror_mode": {
    "name": "ipython",
    "version": 3
   },
   "file_extension": ".py",
   "mimetype": "text/x-python",
   "name": "python",
   "nbconvert_exporter": "python",
   "pygments_lexer": "ipython3",
   "version": "3.13.3"
  }
 },
 "nbformat": 4,
 "nbformat_minor": 5
}
