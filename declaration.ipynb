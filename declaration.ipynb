{
 "cells": [
  {
   "cell_type": "code",
   "execution_count": 2,
   "id": "24c4f74c",
   "metadata": {},
   "outputs": [],
   "source": [
    "import numpy as np"
   ]
  },
  {
   "cell_type": "markdown",
   "id": "af5e79f8",
   "metadata": {},
   "source": [
    "List vs Array\n",
    "1. List cannot handle directly mathematical operation while array can.\n",
    "2. Array consumes less memory\n",
    "3. Array is faster than list\n",
    "4. List can store different data types but you cannot do that with array"
   ]
  },
  {
   "cell_type": "markdown",
   "id": "aee98367",
   "metadata": {},
   "source": [
    "From a Python List / Tuple"
   ]
  },
  {
   "cell_type": "code",
   "execution_count": 21,
   "id": "b7564047",
   "metadata": {},
   "outputs": [
    {
     "name": "stdout",
     "output_type": "stream",
     "text": [
      "[1 2 3]\n",
      "[[1 2 3]\n",
      " [4 5 6]]\n",
      "[5 6 7]\n"
     ]
    }
   ],
   "source": [
    "arr1 = np.array([1, 2, 3])             # 1D array from list\n",
    "arr2 = np.array([[1, 2, 3], [4, 5, 6]])  # 2D array from nested list\n",
    "arr3 = np.array((5, 6, 7))             # 1D array from tuple\n",
    "print(arr1)\n",
    "print(arr2)\n",
    "print(arr3)"
   ]
  },
  {
   "cell_type": "code",
   "execution_count": 22,
   "id": "83397ffe",
   "metadata": {},
   "outputs": [
    {
     "name": "stdout",
     "output_type": "stream",
     "text": [
      "[1. 2. 3.]\n",
      "float64\n",
      "(3,)\n",
      "1\n",
      "3\n",
      "<class 'numpy.ndarray'>\n"
     ]
    }
   ],
   "source": [
    "ar = np.array([1, 2, 3], dtype=np.float64)  # 1D array with specified data type\n",
    "print(ar)\n",
    "print(ar.dtype)  # Output: float64\n",
    "print(ar.shape)  # Output: (3,)\n",
    "print(ar.ndim)   # Output: 1 (number of dimensions)\n",
    "print(ar.size)   # Output: 3 (number of elements)\n",
    "print(type(ar))  # Output: <class 'numpy.ndarray'>"
   ]
  },
  {
   "cell_type": "markdown",
   "id": "1f7df06a",
   "metadata": {},
   "source": [
    "Using Built-in Initialization Functions"
   ]
  },
  {
   "cell_type": "code",
   "execution_count": 8,
   "id": "6a249e81",
   "metadata": {},
   "outputs": [
    {
     "name": "stdout",
     "output_type": "stream",
     "text": [
      "[[0. 0. 0.]\n",
      " [0. 0. 0.]]\n"
     ]
    }
   ],
   "source": [
    "print(np.zeros((2, 3)))  # 2D array of zeros"
   ]
  },
  {
   "cell_type": "code",
   "execution_count": 9,
   "id": "b8b1dad8",
   "metadata": {},
   "outputs": [
    {
     "name": "stdout",
     "output_type": "stream",
     "text": [
      "[[1. 1. 1.]\n",
      " [1. 1. 1.]]\n"
     ]
    }
   ],
   "source": [
    "print(np.ones((2, 3)))   # 2D array of ones"
   ]
  },
  {
   "cell_type": "code",
   "execution_count": 11,
   "id": "0dab9a67",
   "metadata": {},
   "outputs": [
    {
     "name": "stdout",
     "output_type": "stream",
     "text": [
      "[[1. 1. 1.]\n",
      " [1. 1. 1.]]\n"
     ]
    }
   ],
   "source": [
    "print(np.empty((2, 3)))  # 2D array with uninitialized values"
   ]
  },
  {
   "cell_type": "code",
   "execution_count": 13,
   "id": "133b174d",
   "metadata": {},
   "outputs": [
    {
     "name": "stdout",
     "output_type": "stream",
     "text": [
      "[0 1 2 3 4 5 6 7 8 9]\n"
     ]
    }
   ],
   "source": [
    "print(np.arange(10))  # 1D array with values from 0 to 9"
   ]
  },
  {
   "cell_type": "code",
   "execution_count": 14,
   "id": "223ca3ba",
   "metadata": {},
   "outputs": [
    {
     "name": "stdout",
     "output_type": "stream",
     "text": [
      "[0.   0.25 0.5  0.75 1.  ]\n"
     ]
    }
   ],
   "source": [
    "print(np.linspace(0, 1, 5))  # 1D array with 5 evenly spaced values between 0 and 1"
   ]
  },
  {
   "cell_type": "code",
   "execution_count": 15,
   "id": "fc8acf36",
   "metadata": {},
   "outputs": [
    {
     "name": "stdout",
     "output_type": "stream",
     "text": [
      "[[1. 0. 0.]\n",
      " [0. 1. 0.]\n",
      " [0. 0. 1.]]\n"
     ]
    }
   ],
   "source": [
    "print(np.eye(3))  # 3x3 identity matrix"
   ]
  },
  {
   "cell_type": "code",
   "execution_count": 16,
   "id": "9fcebc0d",
   "metadata": {},
   "outputs": [
    {
     "name": "stdout",
     "output_type": "stream",
     "text": [
      "[[7 7]\n",
      " [7 7]]\n"
     ]
    }
   ],
   "source": [
    "print(np.full((2, 2), 7))  # 2D array filled with the value 7"
   ]
  },
  {
   "cell_type": "code",
   "execution_count": 18,
   "id": "1afdefd8",
   "metadata": {},
   "outputs": [
    {
     "name": "stdout",
     "output_type": "stream",
     "text": [
      "[0.8176971  0.97719111 0.21854205 0.76018718 0.79119607]\n"
     ]
    }
   ],
   "source": [
    "print(np.random.rand(5))  # 1D array with random values"
   ]
  },
  {
   "cell_type": "code",
   "execution_count": 19,
   "id": "31e68f5d",
   "metadata": {},
   "outputs": [
    {
     "name": "stdout",
     "output_type": "stream",
     "text": [
      "[[0.69832909 0.54912694 0.41461452]\n",
      " [0.24003695 0.26226768 0.11615976]]\n"
     ]
    }
   ],
   "source": [
    "print(np.random.rand(2, 3))  # 2D array with random values"
   ]
  },
  {
   "cell_type": "code",
   "execution_count": 20,
   "id": "12abe3bd",
   "metadata": {},
   "outputs": [
    {
     "name": "stdout",
     "output_type": "stream",
     "text": [
      "[[2 1 0]\n",
      " [4 0 4]]\n"
     ]
    }
   ],
   "source": [
    "print(np.random.randint(0, 10, (2, 3)))  # 2D array with random integers between 0 and 10"
   ]
  }
 ],
 "metadata": {
  "kernelspec": {
   "display_name": "Python 3",
   "language": "python",
   "name": "python3"
  },
  "language_info": {
   "codemirror_mode": {
    "name": "ipython",
    "version": 3
   },
   "file_extension": ".py",
   "mimetype": "text/x-python",
   "name": "python",
   "nbconvert_exporter": "python",
   "pygments_lexer": "ipython3",
   "version": "3.13.3"
  }
 },
 "nbformat": 4,
 "nbformat_minor": 5
}
