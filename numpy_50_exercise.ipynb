{
 "cells": [
  {
   "cell_type": "markdown",
   "id": "84d73026",
   "metadata": {},
   "source": [
    "Exercise 1. Import numpy as np and see the version"
   ]
  },
  {
   "cell_type": "code",
   "execution_count": 1,
   "id": "43658521",
   "metadata": {},
   "outputs": [
    {
     "name": "stdout",
     "output_type": "stream",
     "text": [
      "2.3.1\n"
     ]
    }
   ],
   "source": [
    "import numpy as np\n",
    "print(np.__version__)"
   ]
  },
  {
   "cell_type": "markdown",
   "id": "75a86ad7",
   "metadata": {},
   "source": [
    "Exercise 2. How to create a 1D array?"
   ]
  },
  {
   "cell_type": "code",
   "execution_count": 8,
   "id": "a11ebffc",
   "metadata": {},
   "outputs": [
    {
     "name": "stdout",
     "output_type": "stream",
     "text": [
      "[1 2 3 4 5]\n",
      "[0 1 2 3 4 5 6 7 8 9]\n"
     ]
    }
   ],
   "source": [
    "ar1 = np.array([1, 2, 3, 4, 5]) # 1D array creation\n",
    "print(ar1)\n",
    "\n",
    "ar2 = np.arange(10) # 1D array creation\n",
    "print(ar2)"
   ]
  },
  {
   "cell_type": "markdown",
   "id": "e58be325",
   "metadata": {},
   "source": [
    "Exercise 3. How to create a boolean array?"
   ]
  },
  {
   "cell_type": "code",
   "execution_count": 11,
   "id": "058cd5ec",
   "metadata": {},
   "outputs": [
    {
     "name": "stdout",
     "output_type": "stream",
     "text": [
      "[[ True  True  True]\n",
      " [ True  True  True]\n",
      " [ True  True  True]] \n",
      "\n",
      "[[ True  True  True]\n",
      " [ True  True  True]\n",
      " [ True  True  True]] \n",
      "\n",
      "[[ True  True  True]\n",
      " [ True  True  True]\n",
      " [ True  True  True]] \n",
      "\n",
      "[[ True  True  True]\n",
      " [ True  True  True]\n",
      " [ True  True  True]]\n"
     ]
    }
   ],
   "source": [
    "# Question : Create a 3×3 numpy array of all True’s\n",
    "\n",
    "# Solution\n",
    "print(np.full((3,3), True, dtype=bool),\"\\n\")\n",
    "\n",
    "#or\n",
    "print(np.full((9), True, dtype=bool).reshape(3,3),\"\\n\")\n",
    "\n",
    "#or\n",
    "print(np.ones((3,3), dtype=bool),\"\\n\")\n",
    "\n",
    "#or\n",
    "print(np.ones((9), dtype=bool).reshape(3,3))"
   ]
  },
  {
   "cell_type": "markdown",
   "id": "6ff83087",
   "metadata": {},
   "source": [
    "Exercise 4. How to extract items that satisfy a given condition from 1D array?"
   ]
  },
  {
   "cell_type": "code",
   "execution_count": 12,
   "id": "a1d87a26",
   "metadata": {},
   "outputs": [
    {
     "name": "stdout",
     "output_type": "stream",
     "text": [
      "[1 3 5 7 9]\n"
     ]
    }
   ],
   "source": [
    "# Question : Extract all odd numbers from array\n",
    "# input: arr = np.array([0, 1, 2, 3, 4, 5, 6, 7, 8, 9])\n",
    "# output: array([1, 3, 5, 7, 9])\n",
    "arr = np.array([0, 1, 2, 3, 4, 5, 6, 7, 8, 9])\n",
    "odd_numbers = arr[arr % 2 == 1]\n",
    "print(odd_numbers)"
   ]
  },
  {
   "cell_type": "markdown",
   "id": "02f51af8",
   "metadata": {},
   "source": [
    "Exercise 5. How to replace items that satisfy a condition with another value in numpy array?"
   ]
  },
  {
   "cell_type": "code",
   "execution_count": 13,
   "id": "1d5b0598",
   "metadata": {},
   "outputs": [
    {
     "name": "stdout",
     "output_type": "stream",
     "text": [
      "[ 0 -1  2 -1  4 -1  6 -1  8 -1]\n"
     ]
    }
   ],
   "source": [
    "# Question: Replace all odd numbers in arr with -1\n",
    "# input: arr = np.array([0, 1, 2, 3, 4, 5, 6, 7, 8, 9])\n",
    "# output: array([ 0, -1,  2, -1,  4, -1,  6, -1,  8, -1])\n",
    "arr = np.array([0, 1, 2, 3, 4, 5, 6, 7, 8, 9])\n",
    "arr[arr % 2 == 1] = -1\n",
    "print(arr)"
   ]
  },
  {
   "cell_type": "markdown",
   "id": "2278e33f",
   "metadata": {},
   "source": [
    "Exercise 6. How to replace items that satisfy a condition without affecting the original array?"
   ]
  },
  {
   "cell_type": "code",
   "execution_count": 14,
   "id": "ba7f3a72",
   "metadata": {},
   "outputs": [
    {
     "name": "stdout",
     "output_type": "stream",
     "text": [
      "out: [ 0 -1  2 -1  4 -1  6 -1  8 -1]\n",
      "arr: [0 1 2 3 4 5 6 7 8 9]\n"
     ]
    }
   ],
   "source": [
    "# Question: Replace all odd numbers in arr with -1 without changing arr\n",
    "# input: arr = np.array([0, 1, 2, 3, 4, 5, 6, 7, 8, 9])\n",
    "# output: out\n",
    "# array([ 0, -1,  2, -1,  4, -1,  6, -1,  8, -1])\n",
    "# arr\n",
    "# array([0, 1, 2, 3, 4, 5, 6, 7, 8, 9])\n",
    "arr = np.arange(10)\n",
    "out = arr.copy()\n",
    "out [out % 2 == 1] = -1\n",
    "print(\"out:\", out)\n",
    "print(\"arr:\", arr)"
   ]
  },
  {
   "cell_type": "markdown",
   "id": "1fef5708",
   "metadata": {},
   "source": [
    "Exercise 7. How to reshape an array?"
   ]
  },
  {
   "cell_type": "code",
   "execution_count": null,
   "id": "91b395bd",
   "metadata": {},
   "outputs": [
    {
     "name": "stdout",
     "output_type": "stream",
     "text": [
      "[[0 1 2 3 4]\n",
      " [5 6 7 8 9]] \n",
      "\n",
      "[[0 1 2 3 4]\n",
      " [5 6 7 8 9]]\n"
     ]
    }
   ],
   "source": [
    "# Question: Convert a 1D array to a 2D array with 2 rows\n",
    "# input: np.arange(10)\n",
    "# output array([[0, 1, 2, 3, 4],\n",
    "#               [5, 6, 7, 8, 9]])\n",
    "arr = np.arange(10)\n",
    "reshaped_arr = arr.reshape(2, 5)\n",
    "print(reshaped_arr, \"\\n\")\n",
    "\n",
    "#another way\n",
    "reshaped_arr = arr.reshape(2, -1) # Setting to -1 automatically decides the number of cols\n",
    "print(reshaped_arr)"
   ]
  },
  {
   "cell_type": "markdown",
   "id": "5faead8f",
   "metadata": {},
   "source": [
    "Exercise 8. How to stack two arrays vertically?"
   ]
  },
  {
   "cell_type": "code",
   "execution_count": 22,
   "id": "80f48d70",
   "metadata": {},
   "outputs": [
    {
     "name": "stdout",
     "output_type": "stream",
     "text": [
      "a:\n",
      " [[0 1 2 3 4]\n",
      " [5 6 7 8 9]]\n",
      "b:\n",
      " [[1 1 1 1 1]\n",
      " [1 1 1 1 1]]\n",
      "\n",
      "After vertical stacking:\n",
      " [[0 1 2 3 4]\n",
      " [5 6 7 8 9]\n",
      " [1 1 1 1 1]\n",
      " [1 1 1 1 1]]\n"
     ]
    }
   ],
   "source": [
    "# Question: Stack arrays a and b vertically\n",
    "# input: a = np.arange(10).reshape(2,-1)\n",
    "#        b = np.repeat(1, 10).reshape(2,-1)\n",
    "\n",
    "# output: array([[0, 1, 2, 3, 4],\n",
    "#                [5, 6, 7, 8, 9],\n",
    "#                [1, 1, 1, 1, 1],\n",
    "#                [1, 1, 1, 1, 1]])\n",
    "\n",
    "a = np.arange(10).reshape(2,-1)\n",
    "b = np.repeat(1, 10).reshape(2,-1)\n",
    "print(\"a:\\n\", a)\n",
    "print(\"b:\\n\", b)\n",
    "vstacked = np.vstack((a, b))\n",
    "print(\"\\nAfter vertical stacking:\\n\", vstacked)"
   ]
  },
  {
   "cell_type": "markdown",
   "id": "36b6d25b",
   "metadata": {},
   "source": [
    "Exercise 9. How to stack two arrays horizontally?"
   ]
  },
  {
   "cell_type": "code",
   "execution_count": 24,
   "id": "412af0e7",
   "metadata": {},
   "outputs": [
    {
     "name": "stdout",
     "output_type": "stream",
     "text": [
      "a:\n",
      " [[0 1 2 3 4]\n",
      " [5 6 7 8 9]]\n",
      "b:\n",
      " [[1 1 1 1 1]\n",
      " [1 1 1 1 1]]\n",
      "\n",
      "After horizontal stacking:\n",
      " [[0 1 2 3 4 1 1 1 1 1]\n",
      " [5 6 7 8 9 1 1 1 1 1]]\n"
     ]
    }
   ],
   "source": [
    "# Question: Stack the arrays a and b horizontally.\n",
    "\n",
    "# Input: a = np.arange(10).reshape(2,-1)\n",
    "#        b = np.repeat(1, 10).reshape(2,-1)\n",
    "# Output: array([[0, 1, 2, 3, 4, 1, 1, 1, 1, 1],\n",
    "#                [5, 6, 7, 8, 9, 1, 1, 1, 1, 1]])\n",
    "\n",
    "a = np.arange(10).reshape(2,-1)\n",
    "b = np.repeat(1, 10).reshape(2,-1)\n",
    "print(\"a:\\n\", a)\n",
    "print(\"b:\\n\", b)\n",
    "\n",
    "hstacked = np.hstack((a, b))\n",
    "print(\"\\nAfter horizontal stacking:\\n\", hstacked)"
   ]
  },
  {
   "cell_type": "markdown",
   "id": "a84e5088",
   "metadata": {},
   "source": [
    "Exercise 10. How to generate custom sequences in numpy without hardcoding?"
   ]
  },
  {
   "cell_type": "code",
   "execution_count": null,
   "id": "451db6e0",
   "metadata": {},
   "outputs": [
    {
     "name": "stdout",
     "output_type": "stream",
     "text": [
      "Pattern 1:\n",
      " [1 1 1 2 2 2 3 3 3]\n",
      "Pattern 2:\n",
      " [1 2 3 1 2 3 1 2 3]\n",
      "Final Pattern:\n",
      " [1 1 1 2 2 2 3 3 3 1 2 3 1 2 3 1 2 3]\n"
     ]
    }
   ],
   "source": [
    "# Question: Create the following pattern without hardcoding. Use only numpy functions and the below input array a.\n",
    "\n",
    "# Input: a = np.array([1,2,3])\n",
    "# Output: array([1, 1, 1, 2, 2, 2, 3, 3, 3, 1, 2, 3, 1, 2, 3, 1, 2, 3])\n",
    "\n",
    "a = np.array([1,2,3])\n",
    "pattern1 = np.repeat(a, 3)  # Repeat each element of a 3 times\n",
    "pattern2 = np.tile(a, 3)    # Repeat the entire array 3 times\n",
    "# print(\"Pattern 1:\\n\", pattern1)\n",
    "# print(\"Pattern 2:\\n\", pattern2)\n",
    "\n",
    "final = np.hstack((pattern1, pattern2))\n",
    "print(\"Final Pattern:\\n\", final)"
   ]
  },
  {
   "cell_type": "markdown",
   "id": "c0a38d39",
   "metadata": {},
   "source": [
    "Exercise 11. How to get the common items between two python numpy arrays?"
   ]
  },
  {
   "cell_type": "code",
   "execution_count": 28,
   "id": "cbf5bc72",
   "metadata": {},
   "outputs": [
    {
     "name": "stdout",
     "output_type": "stream",
     "text": [
      "Common items: [2 4]\n"
     ]
    }
   ],
   "source": [
    "# Question: Get the common items between a and b\n",
    "\n",
    "# Input: a = np.array([1,2,3,2,3,4,3,4,5,6])\n",
    "#        b = np.array([7,2,10,2,7,4,9,4,9,8])\n",
    "\n",
    "# Output: array([2, 4])\n",
    "a = np.array([1,2,3,2,3,4,3,4,5,6])\n",
    "b = np.array([7,2,10,2,7,4,9,4,9,8])\n",
    "common_items = np.intersect1d(a, b)\n",
    "print(\"Common items:\", common_items)"
   ]
  },
  {
   "cell_type": "markdown",
   "id": "9446aedf",
   "metadata": {},
   "source": [
    "Exercise 12. How to remove from one array those items that exist in another?"
   ]
  },
  {
   "cell_type": "code",
   "execution_count": 29,
   "id": "86ed04cd",
   "metadata": {},
   "outputs": [
    {
     "name": "stdout",
     "output_type": "stream",
     "text": [
      "Items in a not in b: [1 2 3 4]\n"
     ]
    }
   ],
   "source": [
    "# Question: From array a remove all items present in array b\n",
    "\n",
    "# Input: a = np.array([1,2,3,4,5])\n",
    "#        b = np.array([5,6,7,8,9])\n",
    "\n",
    "# Output: array([1,2,3,4])\n",
    "a = np.array([1,2,3,4,5])\n",
    "b = np.array([5,6,7,8,9])\n",
    "ans = np.setdiff1d(a, b)\n",
    "print(\"Items in a not in b:\", ans)"
   ]
  },
  {
   "cell_type": "markdown",
   "id": "437546b1",
   "metadata": {},
   "source": [
    "Exercise 13. How to get the positions where elements of two arrays match?"
   ]
  },
  {
   "cell_type": "code",
   "execution_count": 32,
   "id": "4f6f5a4b",
   "metadata": {},
   "outputs": [
    {
     "name": "stdout",
     "output_type": "stream",
     "text": [
      "Matching positions: (array([1, 3, 5, 7]),)\n",
      "Matching positions using np.isin: (array([1, 3, 5, 7]),)\n",
      "Matching positions in list format: [1, 3, 5, 7]\n"
     ]
    }
   ],
   "source": [
    "# Question: Get the positions where elements of a and b match\n",
    "\n",
    "# Input: a = np.array([1,2,3,2,3,4,3,4,5,6])\n",
    "#        b = np.array([7,2,10,2,7,4,9,4,9,8])\n",
    "\n",
    "# Output: (array([1, 3, 5, 7]),)\n",
    "a = np.array([1,2,3,2,3,4,3,4,5,6])\n",
    "b = np.array([7,2,10,2,7,4,9,4,9,8])\n",
    "matching_positions = np.where(a == b)\n",
    "print(\"Matching positions:\", matching_positions)\n",
    "# Note: The output is a tuple containing the indices where the elements match.\n",
    "\n",
    "#another way to find matching positions\n",
    "matching_positions = np.where(np.isin(a, b))\n",
    "print(\"Matching positions using np.isin:\", matching_positions)\n",
    "\n",
    "# output in list format\n",
    "matching_positions_list = matching_positions[0].tolist()\n",
    "print(\"Matching positions in list format:\", matching_positions_list)"
   ]
  },
  {
   "cell_type": "markdown",
   "id": "562bf0b5",
   "metadata": {},
   "source": [
    "Exercise 14. How to extract all numbers between a given range from a numpy array?"
   ]
  },
  {
   "cell_type": "code",
   "execution_count": 33,
   "id": "15e4c556",
   "metadata": {},
   "outputs": [
    {
     "name": "stdout",
     "output_type": "stream",
     "text": [
      "Items between 5 and 10: [ 6  9 10]\n"
     ]
    }
   ],
   "source": [
    "# Question: Get all items between 5 and 10 from a.\n",
    "\n",
    "# Input: a = np.array([2, 6, 1, 9, 10, 3, 27])\n",
    "# Output: (array([6, 9, 10]),)\n",
    "a = np.array([2, 6, 1, 9, 10, 3, 27])\n",
    "ans = a[(a >= 5) & (a <= 10)]\n",
    "print(\"Items between 5 and 10:\", ans)"
   ]
  },
  {
   "cell_type": "markdown",
   "id": "d7f4be67",
   "metadata": {},
   "source": [
    "Exercise 15. How to make a python function that handles scalars to work on numpy arrays?"
   ]
  },
  {
   "cell_type": "code",
   "execution_count": 38,
   "id": "1d2ee0e0",
   "metadata": {},
   "outputs": [
    {
     "name": "stdout",
     "output_type": "stream",
     "text": [
      "Pairwise maximum: [6 7 9 8 9 7 5]\n"
     ]
    },
    {
     "data": {
      "text/plain": [
       "' Alternate solution:\\ndef pair_max(a, b):\\n    maximum = [max(x, y) for x, y in zip(a, b)]\\n    return np.array(maximum) '"
      ]
     },
     "execution_count": 38,
     "metadata": {},
     "output_type": "execute_result"
    }
   ],
   "source": [
    "# Output:\n",
    "# a = np.array([5, 7, 9, 8, 6, 4, 5])\n",
    "# b = np.array([6, 3, 4, 8, 9, 7, 1])\n",
    "# pair_max(a, b)\n",
    "# array([ 6.,  7.,  9.,  8.,  9.,  7.,  5.])\n",
    "\n",
    "def pair_max(a, b):\n",
    "    return np.maximum(a, b)\n",
    "\n",
    "\n",
    "a = np.array([5, 7, 9, 8, 6, 4, 5])\n",
    "b = np.array([6, 3, 4, 8, 9, 7, 1])\n",
    "result = pair_max(a, b)\n",
    "print(\"Pairwise maximum:\", result)\n",
    "\n",
    "\n",
    "\"\"\" Alternate solution:\n",
    "def pair_max(a, b):\n",
    "    maximum = [max(x, y) for x, y in zip(a, b)]\n",
    "    return np.array(maximum) \"\"\"\n"
   ]
  },
  {
   "cell_type": "markdown",
   "id": "d626d612",
   "metadata": {},
   "source": [
    "Exercise 16. How to swap two columns in a 2d numpy array?"
   ]
  },
  {
   "cell_type": "code",
   "execution_count": 42,
   "id": "4a906893",
   "metadata": {},
   "outputs": [
    {
     "name": "stdout",
     "output_type": "stream",
     "text": [
      "Original array:\n",
      " [[0 1 2]\n",
      " [3 4 5]\n",
      " [6 7 8]]\n",
      "Swapping columns 0 and 1...\n",
      "[[1 0 2]\n",
      " [4 3 5]\n",
      " [7 6 8]]\n"
     ]
    }
   ],
   "source": [
    "# Question: Swap columns 0 and 1 in the array arr.\n",
    "ar = np.arange(9).reshape(3, 3)\n",
    "print(\"Original array:\\n\", ar)\n",
    "print(\"Swapping columns 0 and 1...\")\n",
    "print(ar[:, [1, 0, 2]])  # Swapping columns by indexing"
   ]
  },
  {
   "cell_type": "markdown",
   "id": "6ab3006b",
   "metadata": {},
   "source": [
    "Exercise 17. How to swap two rows in a 2d numpy array?"
   ]
  },
  {
   "cell_type": "code",
   "execution_count": 43,
   "id": "9911b7c2",
   "metadata": {},
   "outputs": [
    {
     "name": "stdout",
     "output_type": "stream",
     "text": [
      "Original array:\n",
      " [[0 1 2]\n",
      " [3 4 5]\n",
      " [6 7 8]]\n",
      "Swapping rows 0 and 1...\n",
      "[[3 4 5]\n",
      " [0 1 2]\n",
      " [6 7 8]]\n"
     ]
    }
   ],
   "source": [
    "# Question: Swap rows 0 and 1 in the array arr.\n",
    "ar = np.arange(9).reshape(3, 3)\n",
    "print(\"Original array:\\n\", ar)\n",
    "print(\"Swapping rows 0 and 1...\")\n",
    "print(ar[[1,0,2], :])  # Swapping rows by indexing"
   ]
  },
  {
   "cell_type": "markdown",
   "id": "348a628c",
   "metadata": {},
   "source": [
    "Exercise 18. How to reverse the rows of a 2D array?"
   ]
  },
  {
   "cell_type": "code",
   "execution_count": null,
   "id": "cdc8aaf9",
   "metadata": {},
   "outputs": [
    {
     "name": "stdout",
     "output_type": "stream",
     "text": [
      "Original array:\n",
      " [[0 1 2]\n",
      " [3 4 5]\n",
      " [6 7 8]]\n",
      "Reversed rows:\n",
      "[[6 7 8]\n",
      " [3 4 5]\n",
      " [0 1 2]]\n"
     ]
    }
   ],
   "source": [
    "# Question: Reverse the rows of a 2D array arr. \n",
    "ar = np.arange(9).reshape(3, 3)\n",
    "print(\"Original array:\\n\", ar)\n",
    "print(\"Reversed rows:\")\n",
    "print(ar[::-1, :])  # Reversing rows using slicing"
   ]
  },
  {
   "cell_type": "markdown",
   "id": "a9947567",
   "metadata": {},
   "source": [
    "Exercise 19. How to reverse the columns of a 2D array?"
   ]
  },
  {
   "cell_type": "code",
   "execution_count": 47,
   "id": "96ce0448",
   "metadata": {},
   "outputs": [
    {
     "name": "stdout",
     "output_type": "stream",
     "text": [
      "Original array:\n",
      " [[0 1 2]\n",
      " [3 4 5]\n",
      " [6 7 8]]\n",
      "Reversed columns:\n",
      "[[2 1 0]\n",
      " [5 4 3]\n",
      " [8 7 6]]\n"
     ]
    }
   ],
   "source": [
    "# Question: Reverse the columns of a 2D array arr.\n",
    "ar = np.arange(9).reshape(3, 3)\n",
    "print(\"Original array:\\n\", ar)\n",
    "print(\"Reversed columns:\")\n",
    "print(ar[:, ::-1])  # Reversing columns using slicing"
   ]
  },
  {
   "cell_type": "markdown",
   "id": "0b29d204",
   "metadata": {},
   "source": [
    "Exercise 20. How to create a 2D array containing random floats between 5 and 10?"
   ]
  },
  {
   "cell_type": "code",
   "execution_count": 48,
   "id": "bf9aa9c2",
   "metadata": {},
   "outputs": [
    {
     "name": "stdout",
     "output_type": "stream",
     "text": [
      "Random array with shape 5x5 containing numbers between 5 and 10:\n",
      " [[7.92048779 9.12359653 5.66265171 6.15747686 9.22417453]\n",
      " [6.41397854 6.70507678 7.08234223 9.0228348  8.1356985 ]\n",
      " [8.50187917 8.35240258 8.71830996 5.02595437 7.36010139]\n",
      " [5.93475378 6.35402692 6.27359082 5.41031351 9.49418158]\n",
      " [6.86104381 6.97253543 7.96392662 6.43769928 6.40831769]]\n"
     ]
    }
   ],
   "source": [
    "# Question: Create a 2D array of shape 5x3 to contain random decimal numbers between 5 and 10.\n",
    "randon_arr = np.random.uniform(5,10,size=(5,5))\n",
    "print(\"Random array with shape 5x5 containing numbers between 5 and 10:\\n\", randon_arr)"
   ]
  },
  {
   "cell_type": "markdown",
   "id": "ca1110e9",
   "metadata": {},
   "source": [
    "Extra: ravel, flatten"
   ]
  },
  {
   "cell_type": "code",
   "execution_count": null,
   "id": "4cdae651",
   "metadata": {},
   "outputs": [
    {
     "name": "stdout",
     "output_type": "stream",
     "text": [
      "Original array:\n",
      " [[1 2 3]\n",
      " [4 5 6]]\n",
      "Ravelled array (view): [1 2 3 4 5 6]\n",
      "Flattened array (copy): [1 2 3 4 5 6]\n",
      "[20 40 50]\n"
     ]
    }
   ],
   "source": [
    "\"\"\"\n",
    "ravel --> create a view of the array in 1D that reflects changes in the original array\n",
    "flatten --> create a copy of the array in 1D that does not reflect changes in the original array\n",
    "\"\"\"\n",
    "\n",
    "import numpy as np\n",
    "ar = np.array([[1, 2, 3], [4, 5, 6]])\n",
    "print(\"Original array:\\n\", ar)\n",
    "print(\"Ravelled array (view):\", ar.ravel()) \n",
    "print(\"Flattened array (copy):\", ar.flatten())\n",
    "\n",
    "\n",
    "# Fancy Indexing(Select multiple values at a time)\n",
    "ar = np.array([10,20,30,40,50,60])\n",
    "print(ar[[1, 3, 4]])  # Accessing elements at indices 1, 3, and 4: [20, 40, 50]"
   ]
  },
  {
   "cell_type": "code",
   "execution_count": null,
   "id": "6f8b64a4",
   "metadata": {},
   "outputs": [],
   "source": []
  }
 ],
 "metadata": {
  "kernelspec": {
   "display_name": "Python 3",
   "language": "python",
   "name": "python3"
  },
  "language_info": {
   "codemirror_mode": {
    "name": "ipython",
    "version": 3
   },
   "file_extension": ".py",
   "mimetype": "text/x-python",
   "name": "python",
   "nbconvert_exporter": "python",
   "pygments_lexer": "ipython3",
   "version": "3.13.3"
  }
 },
 "nbformat": 4,
 "nbformat_minor": 5
}
