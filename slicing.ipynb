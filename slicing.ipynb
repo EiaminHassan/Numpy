{
 "cells": [
  {
   "cell_type": "markdown",
   "id": "6eaa225f",
   "metadata": {},
   "source": [
    "✅ 1D NumPy Array Slicing : array[start:stop:step]"
   ]
  },
  {
   "cell_type": "code",
   "execution_count": 1,
   "id": "f035393d",
   "metadata": {},
   "outputs": [],
   "source": [
    "import numpy as np\n",
    "\n",
    "arr = np.array([10, 20, 30, 40, 50, 60])"
   ]
  },
  {
   "cell_type": "code",
   "execution_count": 3,
   "id": "a5c10d11",
   "metadata": {},
   "outputs": [
    {
     "name": "stdout",
     "output_type": "stream",
     "text": [
      "[20 30 40]\n",
      "[10 20 30]\n",
      "[40 50 60]\n",
      "[10 20 30 40 50 60]\n"
     ]
    }
   ],
   "source": [
    "print(arr[1:4])      # [20, 30, 40]\n",
    "print(arr[:3])       # [10, 20, 30]\n",
    "print(arr[3:])       # [40, 50, 60]\n",
    "print(arr[:])        # [10, 20, 30, 40, 50, 60]"
   ]
  },
  {
   "cell_type": "code",
   "execution_count": 4,
   "id": "2dab1731",
   "metadata": {},
   "outputs": [
    {
     "name": "stdout",
     "output_type": "stream",
     "text": [
      "[10 20 30 40 50 60]\n",
      "[10 30 50]\n",
      "[20 40]\n"
     ]
    }
   ],
   "source": [
    "print(arr[::1])      # [10, 20, 30, 40, 50, 60]\n",
    "print(arr[::2])      # [10, 30, 50]\n",
    "print(arr[1:5:2])    # [20, 40]"
   ]
  },
  {
   "cell_type": "code",
   "execution_count": 5,
   "id": "d96871ea",
   "metadata": {},
   "outputs": [
    {
     "name": "stdout",
     "output_type": "stream",
     "text": [
      "[40 50 60]\n",
      "[10 20 30 40]\n"
     ]
    }
   ],
   "source": [
    "#Negative slicing\n",
    "print(arr[-3:])      # [40, 50, 60]\n",
    "print(arr[:-2])      # [10, 20, 30, 40]"
   ]
  },
  {
   "cell_type": "code",
   "execution_count": 6,
   "id": "02c27b00",
   "metadata": {},
   "outputs": [
    {
     "name": "stdout",
     "output_type": "stream",
     "text": [
      "[60 50 40 30 20 10]\n",
      "60\n",
      "[50 60]\n",
      "[40 50]\n"
     ]
    }
   ],
   "source": [
    "#reverse slicing\n",
    "print(arr[::-1])     # [60, 50, 40, 30, 20, 10]\n",
    "print(arr[-1])       # 60\n",
    "print(arr[-2:])      # [50, 60]\n",
    "print(arr[-3:-1])    # [40, 50]"
   ]
  },
  {
   "cell_type": "markdown",
   "id": "29d1dc34",
   "metadata": {},
   "source": [
    "✅ 2D NumPy Array Slicing: array[row_start:row_stop, col_start:col_stop]"
   ]
  },
  {
   "cell_type": "code",
   "execution_count": 7,
   "id": "6caf93ef",
   "metadata": {},
   "outputs": [
    {
     "name": "stdout",
     "output_type": "stream",
     "text": [
      "[[11 12 13 14]\n",
      " [21 22 23 24]\n",
      " [31 32 33 34]\n",
      " [41 42 43 44]]\n"
     ]
    }
   ],
   "source": [
    "arr2d = np.array([\n",
    "    [11, 12, 13, 14],\n",
    "    [21, 22, 23, 24],\n",
    "    [31, 32, 33, 34],\n",
    "    [41, 42, 43, 44]\n",
    "])\n",
    "print(arr2d)"
   ]
  },
  {
   "cell_type": "code",
   "execution_count": 10,
   "id": "e5ca999b",
   "metadata": {},
   "outputs": [
    {
     "name": "stdout",
     "output_type": "stream",
     "text": [
      "[11 12 13 14]\n",
      "[[21 22 23 24]\n",
      " [31 32 33 34]]\n"
     ]
    }
   ],
   "source": [
    "print(arr2d[0])       # First row: [11, 12, 13, 14]\n",
    "print(arr2d[1:3])     # Rows 1 and 2"
   ]
  },
  {
   "cell_type": "code",
   "execution_count": 12,
   "id": "20925e9e",
   "metadata": {},
   "outputs": [
    {
     "name": "stdout",
     "output_type": "stream",
     "text": [
      "[11 21 31 41]\n",
      "[[13 14]\n",
      " [23 24]\n",
      " [33 34]\n",
      " [43 44]]\n"
     ]
    }
   ],
   "source": [
    "print(arr2d[:, 0])    # First column: [11, 21, 31, 41]\n",
    "print(arr2d[:, 2:4])  # Columns 2 and 3"
   ]
  },
  {
   "cell_type": "code",
   "execution_count": 13,
   "id": "f7393599",
   "metadata": {},
   "outputs": [
    {
     "name": "stdout",
     "output_type": "stream",
     "text": [
      "[12 13]\n",
      "[22 32]\n",
      "[[22 23]\n",
      " [32 33]]\n"
     ]
    }
   ],
   "source": [
    "print(arr2d[0, 1:3])  # First row, columns 1 and 2: [12, 13]\n",
    "print(arr2d[1:3, 1])  # Rows 1 and 2, column 1: [22, 32]\n",
    "print(arr2d[1:3, 1:3])  # [[22, 23], [32, 33]]"
   ]
  },
  {
   "cell_type": "code",
   "execution_count": 14,
   "id": "47e4f6e9",
   "metadata": {},
   "outputs": [
    {
     "name": "stdout",
     "output_type": "stream",
     "text": [
      "[[11 13]\n",
      " [31 33]]\n"
     ]
    }
   ],
   "source": [
    "print(arr2d[::2, ::2])  # [[11, 13], [31, 33]]\n"
   ]
  },
  {
   "cell_type": "code",
   "execution_count": null,
   "id": "c26b3edd",
   "metadata": {},
   "outputs": [
    {
     "name": "stdout",
     "output_type": "stream",
     "text": [
      "[[41 42 43 44]\n",
      " [31 32 33 34]\n",
      " [21 22 23 24]\n",
      " [11 12 13 14]]\n",
      "--------------------\n",
      "[[14 13 12 11]\n",
      " [24 23 22 21]\n",
      " [34 33 32 31]\n",
      " [44 43 42 41]]\n",
      "--------------------\n",
      "[[44 43 42 41]\n",
      " [34 33 32 31]\n",
      " [24 23 22 21]\n",
      " [14 13 12 11]]\n"
     ]
    }
   ],
   "source": [
    "print(arr2d[::-1, :])   # Reverse rows\n",
    "print('-' * 20)  \n",
    "\n",
    "print(arr2d[:, ::-1])   # Reverse columns\n",
    "print('-' * 20)   \n",
    "\n",
    "print(arr2d[::-1, ::-1])  # Reverse entire matrix\n"
   ]
  }
 ],
 "metadata": {
  "kernelspec": {
   "display_name": "Python 3",
   "language": "python",
   "name": "python3"
  },
  "language_info": {
   "codemirror_mode": {
    "name": "ipython",
    "version": 3
   },
   "file_extension": ".py",
   "mimetype": "text/x-python",
   "name": "python",
   "nbconvert_exporter": "python",
   "pygments_lexer": "ipython3",
   "version": "3.13.3"
  }
 },
 "nbformat": 4,
 "nbformat_minor": 5
}
