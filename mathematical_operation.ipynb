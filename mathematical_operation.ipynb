{
 "cells": [
  {
   "cell_type": "code",
   "execution_count": 1,
   "id": "c15fcd10",
   "metadata": {},
   "outputs": [],
   "source": [
    "import numpy as np\n",
    "\n",
    "ar1 = np.array([[10, 20], [40, 50]])\n",
    "ar2 = np.array([[30, 40], [70, 80]])"
   ]
  },
  {
   "cell_type": "markdown",
   "id": "b8f09d84",
   "metadata": {},
   "source": [
    "Mathematical Operation"
   ]
  },
  {
   "cell_type": "code",
   "execution_count": 3,
   "id": "535ded03",
   "metadata": {},
   "outputs": [
    {
     "name": "stdout",
     "output_type": "stream",
     "text": [
      "[[ 40  60]\n",
      " [110 130]]\n",
      "[[ 40  60]\n",
      " [110 130]]\n"
     ]
    }
   ],
   "source": [
    "print(ar1 + ar2)  # Element-wise addition\n",
    "print(np.add(ar1,ar2))\n"
   ]
  },
  {
   "cell_type": "code",
   "execution_count": 4,
   "id": "8342d0f5",
   "metadata": {},
   "outputs": [
    {
     "name": "stdout",
     "output_type": "stream",
     "text": [
      "[[-20 -20]\n",
      " [-30 -30]]\n",
      "[[-20 -20]\n",
      " [-30 -30]]\n"
     ]
    }
   ],
   "source": [
    "print(ar1 - ar2)  # Element-wise subtraction\n",
    "print(np.subtract(ar1, ar2))"
   ]
  },
  {
   "cell_type": "code",
   "execution_count": 5,
   "id": "d9cebe02",
   "metadata": {},
   "outputs": [
    {
     "name": "stdout",
     "output_type": "stream",
     "text": [
      "[[ 300  800]\n",
      " [2800 4000]]\n",
      "[[ 300  800]\n",
      " [2800 4000]]\n"
     ]
    }
   ],
   "source": [
    "print(ar1 * ar2)  # Element-wise multiplication\n",
    "print(np.multiply(ar1, ar2))"
   ]
  },
  {
   "cell_type": "code",
   "execution_count": 6,
   "id": "e9c031d4",
   "metadata": {},
   "outputs": [
    {
     "name": "stdout",
     "output_type": "stream",
     "text": [
      "[[0.33333333 0.5       ]\n",
      " [0.57142857 0.625     ]]\n",
      "[[0.33333333 0.5       ]\n",
      " [0.57142857 0.625     ]]\n"
     ]
    }
   ],
   "source": [
    "print(ar1 / ar2)  # Element-wise division\n",
    "print(np.divide(ar1, ar2))"
   ]
  },
  {
   "cell_type": "code",
   "execution_count": null,
   "id": "9a6dc2b2",
   "metadata": {},
   "outputs": [
    {
     "name": "stdout",
     "output_type": "stream",
     "text": [
      "[[4. 5.]\n",
      " [6. 8.]]\n"
     ]
    }
   ],
   "source": [
    "ar = np.array([[16, 25], [36, 64]])\n",
    "print(np.sqrt(ar))  # Element-wise square root"
   ]
  },
  {
   "cell_type": "code",
   "execution_count": 13,
   "id": "25b96c3c",
   "metadata": {},
   "outputs": [
    {
     "name": "stdout",
     "output_type": "stream",
     "text": [
      "[[16 25]\n",
      " [36 64]]\n",
      "[[16 25]\n",
      " [36 64]]\n"
     ]
    }
   ],
   "source": [
    "ar = np.array([[4, 5], [6, 8]])\n",
    "print(ar**2)  # Element-wise square\n",
    "print(pow(ar, ar2)) # Element-wise power(2)"
   ]
  },
  {
   "cell_type": "code",
   "execution_count": 12,
   "id": "dc9eeaaa",
   "metadata": {},
   "outputs": [
    {
     "name": "stdout",
     "output_type": "stream",
     "text": [
      "[[0 1]\n",
      " [0 0]]\n",
      "[[0 1]\n",
      " [0 0]]\n"
     ]
    }
   ],
   "source": [
    "ar = np.array([[4, 5], [6, 8]])\n",
    "print(ar%2)  # Element-wise modulus\n",
    "print(np.mod(ar, 2))"
   ]
  }
 ],
 "metadata": {
  "kernelspec": {
   "display_name": "Python 3",
   "language": "python",
   "name": "python3"
  },
  "language_info": {
   "codemirror_mode": {
    "name": "ipython",
    "version": 3
   },
   "file_extension": ".py",
   "mimetype": "text/x-python",
   "name": "python",
   "nbconvert_exporter": "python",
   "pygments_lexer": "ipython3",
   "version": "3.13.3"
  }
 },
 "nbformat": 4,
 "nbformat_minor": 5
}
